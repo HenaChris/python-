{
 "cells": [
  {
   "cell_type": "markdown",
   "metadata": {},
   "source": [
    "# <center>python基础--图形用户界面"
   ]
  },
  {
   "cell_type": "markdown",
   "metadata": {},
   "source": [
    "## 任务"
   ]
  },
  {
   "cell_type": "markdown",
   "metadata": {},
   "source": [
    "+ 让用户能够打开指定的文本文件\n",
    "+ 让用户能够编辑文本文件\n",
    "+ 让用户能够保存文本文件\n",
    "+ 让用户能够退出"
   ]
  },
  {
   "cell_type": "markdown",
   "metadata": {},
   "source": [
    "## 初探"
   ]
  },
  {
   "cell_type": "code",
   "execution_count": 21,
   "metadata": {},
   "outputs": [
    {
     "data": {
      "text/plain": [
       "<bound method Pack.pack_configure of <tkinter.Button object .!button2>>"
      ]
     },
     "execution_count": 21,
     "metadata": {},
     "output_type": "execute_result"
    }
   ],
   "source": [
    "#创建Tk对象\n",
    "from tkinter import *\n",
    "top = Tk() \n",
    "mainloop() #进入事件主循环\n",
    "btn = Button()\n",
    "btn.pack() #布局管理器\n",
    "btn['text'] = 'Click me!'#给按钮指定文本\n",
    "def clicked():\n",
    "    print('I was clicked!')\n",
    "#btn['command'] = clicked #打印了‘I was clicked!’\n",
    "#btn.config(text='Click me!',command = clicked) #同样的效果\n",
    "Button(text='Click me too1',command = clicked).pack #可以执行函数\n"
   ]
  },
  {
   "cell_type": "markdown",
   "metadata": {},
   "source": [
    "\n",
    "## 布局"
   ]
  },
  {
   "cell_type": "code",
   "execution_count": 36,
   "metadata": {},
   "outputs": [],
   "source": [
    "from tkinter import *\n",
    "Label(text=\"I`m the first window!\").pack()"
   ]
  },
  {
   "cell_type": "code",
   "execution_count": 43,
   "metadata": {},
   "outputs": [],
   "source": [
    "second = Toplevel()#Toplevel 类表示除主窗口外的另一个顶级窗口\n",
    "Label(second,text=\"I'm in the second window!\").pack()"
   ]
  },
  {
   "cell_type": "code",
   "execution_count": 44,
   "metadata": {},
   "outputs": [],
   "source": [
    "mainloop()\n",
    "for i in range(10):\n",
    "    Button(text=i).pack()"
   ]
  },
  {
   "cell_type": "code",
   "execution_count": 46,
   "metadata": {
    "collapsed": true
   },
   "outputs": [
    {
     "name": "stdout",
     "output_type": "stream",
     "text": [
      "Help on function pack_configure in module tkinter:\n",
      "\n",
      "pack_configure(self, cnf={}, **kw)\n",
      "    Pack a widget in the parent widget. Use as options:\n",
      "    after=widget - pack it after you have packed widget\n",
      "    anchor=NSEW (or subset) - position widget according to\n",
      "                              given direction\n",
      "    before=widget - pack it before you will pack widget\n",
      "    expand=bool - expand widget if parent size grows\n",
      "    fill=NONE or X or Y or BOTH - fill widget if widget grows\n",
      "    in=master - use master to contain this widget\n",
      "    in_=master - see 'in' option description\n",
      "    ipadx=amount - add internal padding in x direction\n",
      "    ipady=amount - add internal padding in y direction\n",
      "    padx=amount - add padding in x direction\n",
      "    pady=amount - add padding in y direction\n",
      "    side=TOP or BOTTOM or LEFT or RIGHT -  where to add this widget.\n",
      "\n"
     ]
    }
   ],
   "source": [
    "help(Pack.config)"
   ]
  },
  {
   "cell_type": "markdown",
   "metadata": {},
   "source": [
    "\n",
    "## 事件"
   ]
  },
  {
   "cell_type": "code",
   "execution_count": 60,
   "metadata": {},
   "outputs": [
    {
     "name": "stdout",
     "output_type": "stream",
     "text": [
      "43 76\n",
      "92 50\n",
      "93 81\n",
      "125 102\n"
     ]
    }
   ],
   "source": [
    "from tkinter import *\n",
    "top = Tk()\n",
    "def callback(event):#event是对象\n",
    "    print(event.x,event.y)\n",
    "#bind实现一系列事件\n",
    "top.bind(sequence='<Button-1>',func=callback)#单机鼠标左键，返回x,y的坐标值\n",
    "top.mainloop()"
   ]
  },
  {
   "cell_type": "markdown",
   "metadata": {},
   "source": [
    "\n",
    "## 代码实现任务"
   ]
  },
  {
   "cell_type": "code",
   "execution_count": 64,
   "metadata": {},
   "outputs": [],
   "source": [
    "from tkinter import *\n",
    "from tkinter.scrolledtext import ScrolledText #滚动文本\n",
    "\n",
    "def load():\n",
    "    with open(filename.get()) as file:\n",
    "        contents.delete(\"1.0\",END)\n",
    "        contents.insert(INSERT,file.read())\n",
    "\n",
    "def save():\n",
    "    with open(filename.get(),'w') as file:\n",
    "        file.write(contents.get(\"1.0\",END))\n",
    "        \n",
    "top = Tk()\n",
    "top.title(\"Simple Editor\")\n",
    "\n",
    "contents = ScrolledText()\n",
    "contents.pack(side=BOTTOM,expand=True,fill=BOTH)\n",
    "\n",
    "filename = Entry()\n",
    "filename.pack(side=LEFT,expand=True,fill=X)\n",
    "\n",
    "Button(text='Open',command=load).pack(side=LEFT)\n",
    "Button(text=\"Save\",command=save).pack(side=LEFT)\n",
    "\n",
    "mainloop()     "
   ]
  },
  {
   "cell_type": "markdown",
   "metadata": {},
   "source": [
    "\n",
    "## 补充"
   ]
  },
  {
   "cell_type": "markdown",
   "metadata": {},
   "source": [
    "*参考链接*\n",
    "[Python初学——窗口视窗Tkinter](https://www.cnblogs.com/wwf828/p/7418181.html#autoid-4-0-0)"
   ]
  },
  {
   "cell_type": "code",
   "execution_count": 10,
   "metadata": {},
   "outputs": [],
   "source": [
    "#Entry（） & Text 输入，文本框\n",
    "import tkinter as tk\n",
    "\n",
    "window = tk.Tk()\n",
    "\n",
    "window.title(\"my window\")\n",
    "\n",
    "window.geometry(\"300x300\")\n",
    "\n",
    "e = tk.Entry(window,show=None)#Entry对象输入密码时show=*\n",
    "\n",
    "e.pack()\n",
    "\n",
    "def insert_point():\n",
    "    var = e.get()\n",
    "    t.insert('insert',var)#光标处插入\n",
    "\n",
    "def insert_end():\n",
    "    var = e.get()\n",
    "    t.insert('end',var)#末尾插入\n",
    "\n",
    "b1 = tk.Button(window,text='insert point',width=15,height=2,command=insert_point)\n",
    "b1.pack()\n",
    "b2 = tk.Button(window,text='insert end',command=insert_end)\n",
    "b2.pack()\n",
    "t  = tk.Text(window,height=2) #tk.Text对象\n",
    "t.pack()\n",
    "\n",
    "window.mainloop()\n"
   ]
  },
  {
   "cell_type": "code",
   "execution_count": 15,
   "metadata": {},
   "outputs": [],
   "source": [
    "#Listbox列表部Listbox-->var1---(Button)--->Label\n",
    "import tkinter as tk\n",
    "\n",
    "window = tk.Tk()\n",
    "window.title(\"my window!\")\n",
    "window.geometry('300x300')\n",
    "\n",
    "var1 = tk.StringVar()#显示在标签栏\n",
    "l = tk.Label(window,bg='yellow',width=4,textvariable=var1)\n",
    "l.pack()\n",
    "\n",
    "def print_selection():\n",
    "    value = lb.get(lb.curselection())\n",
    "    var1.set(value)#将列表选择结果给var1\n",
    "    \n",
    "b1 = tk.Button(window,text=\"print selection\",width=15,height=2\n",
    "             ,command=print_selection)#按按钮，返回var1的值\n",
    "b1.pack()\n",
    "\n",
    "var2=tk.StringVar()\n",
    "var2.set((11,22,33,44))\n",
    "lb=tk.Listbox(window,listvariable=var2)#设置\n",
    "list_items=[1,2,3,4]\n",
    "for item in list_items:\n",
    "    lb.insert('end',item)#尾部插入\n",
    "lb.insert(1,'first')#第二个位置插入\n",
    "lb.insert(2,'second')\n",
    "lb.delete(2)\n",
    "lb.pack()\n",
    "\n",
    "window.mainloop()"
   ]
  },
  {
   "cell_type": "markdown",
   "metadata": {},
   "source": [
    "![picture1](https://github.com/HenaChris/-/blob/master/basic_GUI_2.png?raw=true)"
   ]
  },
  {
   "cell_type": "code",
   "execution_count": 9,
   "metadata": {},
   "outputs": [],
   "source": [
    "#Radiobutton选择按钮\n",
    "import tkinter as tk\n",
    "\n",
    "window = tk.Tk()\n",
    "window.title('my window')#定义窗口\n",
    "window.geometry('300x300')\n",
    "\n",
    "var = tk.StringVar()#将文本内容定义为变量\n",
    "l = tk.Label(window,bg='yellow',width=20,text='empty')\n",
    "l.pack()\n",
    "\n",
    "#.config可以修改全局的参数\n",
    "def print_selection():\n",
    "    l.config(text='you have seleced '+var.get())\n",
    "\n",
    "#定义三个选项，令变量为var，值为‘A’\n",
    "r1=tk.Radiobutton(window,text='Option A',variable=var,value='A',\n",
    "                  command=print_selection)#单选按钮\n",
    "r1.pack()\n",
    "r2=tk.Radiobutton(window,text='Option B',variable=var,value='B',\n",
    "                  command=print_selection)\n",
    "r2.pack()\n",
    "r3=tk.Radiobutton(window,text='Option C',variable=var,value='C',\n",
    "                  command=print_selection)\n",
    "r3.pack()\n",
    "\n",
    "window.mainloop()\n"
   ]
  },
  {
   "cell_type": "markdown",
   "metadata": {},
   "source": [
    "![picture2](https://github.com/HenaChris/-/blob/master/basic_GUI_1.png?raw=true)"
   ]
  },
  {
   "cell_type": "code",
   "execution_count": 18,
   "metadata": {},
   "outputs": [],
   "source": [
    "#Scale 尺度\n",
    "import tkinter as tk\n",
    "\n",
    "window = tk.Tk()\n",
    "window.title('my window!')\n",
    "window.geometry('300x300')\n",
    "\n",
    "l=tk.Label(window,bg='green',width=20,text='empty')\n",
    "l.pack()\n",
    "\n",
    "def print_section(v):\n",
    "    l.config(text='you have selected'+v)\n",
    "\n",
    "s=tk.Scale(window,label='try me',from_=5,to=11,\n",
    "           orient=tk.HORIZONTAL,length=200,showvalue=0,\n",
    "          tickinterval=3,resolution=0.01,\n",
    "           command=print_section)#length单位像素，Scale中所定义的command功能是有默认传入值的，\n",
    "#该传入值即为Scale标签当前标注的值。showvalue=0，不显示当前选中值\n",
    "s.pack()\n",
    "window.mainloop()\n"
   ]
  },
  {
   "cell_type": "markdown",
   "metadata": {},
   "source": [
    "![picture3](https://github.com/HenaChris/-/blob/master/basic_GUI_3.png?raw=true)"
   ]
  },
  {
   "cell_type": "code",
   "execution_count": 24,
   "metadata": {},
   "outputs": [],
   "source": [
    "#Checkbutton 勾选项\n",
    "\n",
    "import tkinter as tk\n",
    "\n",
    "window = tk.Tk()\n",
    "window.title('my window')\n",
    "window.geometry('300x300')\n",
    "\n",
    "l=tk.Label(window,bg='yellow',width=20,text='empty')\n",
    "l.pack()\n",
    "\n",
    "def print_selection():\n",
    "    if(var1.get()==1)&(var2.get()==0):\n",
    "        l.config(text='I love only Python')\n",
    "    elif(var1.get()==0)&(var2.get()==1):\n",
    "        l.config(text='I love only C++')\n",
    "    elif(var1.get()==0)&(var2.get()==0):\n",
    "        l.config(text='I do not love either')\n",
    "    else:\n",
    "        l.config(text='I love both')\n",
    "        \n",
    "    \n",
    "var1=tk.IntVar()\n",
    "var2=tk.IntVar()\n",
    "c1=tk.Checkbutton(window,text='Python',variable=var1,onvalue=1,offvalue=0,\n",
    "                  command=print_selection)\n",
    "c2=tk.Checkbutton(window,text='C++',variable=var2,onvalue=1,offvalue=0,\n",
    "                  command=print_selection)\n",
    "c1.pack()\n",
    "c2.pack()\n",
    "\n",
    "window.mainloop()"
   ]
  },
  {
   "cell_type": "markdown",
   "metadata": {},
   "source": [
    "![picture4](https://github.com/HenaChris/-/blob/master/basic_GUI_4.png?raw=true)"
   ]
  },
  {
   "cell_type": "code",
   "execution_count": null,
   "metadata": {},
   "outputs": [],
   "source": [
    "#Canvas画布\n",
    "import tkinter as tk\n",
    "\n",
    "window = tk.Tk()\n",
    "window.title('my window')\n",
    "window.geometry('300x300')\n",
    "\n",
    "#定义画布\n",
    "canvas = tk.Canvas(window,bg='blue',height=150,width=200)\n",
    "#读取图片\n",
    "image_file=tk.PhotoImage(file=r'C:\\Users\\henachris\\Pictures\\Camera Roll\\timg.png')\n",
    "\n",
    "#图片放在左上角‘nw’，(10,10)为坐标\n",
    "image=canvas.create_image(10,10,anchor='nw',image=image_file)\n",
    "x0,y0,x1,y1=90,90,120,120\n",
    "#（90.90）到（120，120）绘制一条直线\n",
    "line=canvas.create_line(x0,y0,x1,y1)\n",
    "#绘制圆形\n",
    "oval=canvas.create_oval(x0,y0,x1,y1,fill='yellow')\n",
    "#绘制扇形\n",
    "oval=canvas.create_arc(x0+30,x1+30,y0+30,y1+30,start=0,\n",
    "                      extent=180,fill='green')\n",
    "#绘制长方形\n",
    "rect=canvas.create_rectangle(100,30,100+20,30+20)\n",
    "canvas.pack()\n",
    "\n",
    "#对长方形进行操作：沿着y轴向下移2\n",
    "def moveit():\n",
    "    canvas.move(rect,0,2)\n",
    "\n",
    "b=tk.Button(window,text='move',command=moveit).pack()\n",
    "\n",
    "window.mainloop()"
   ]
  },
  {
   "cell_type": "markdown",
   "metadata": {},
   "source": [
    "![picture5](https://github.com/HenaChris/-/blob/master/basic_GUI_5.png?raw=true)"
   ]
  },
  {
   "cell_type": "code",
   "execution_count": 50,
   "metadata": {},
   "outputs": [],
   "source": [
    "#Menu菜单，window--->menubar---->filemenu(editmenu)\n",
    "#                                       ---->Import\n",
    "import tkinter as tk\n",
    "\n",
    "window = tk.Tk()\n",
    "window.title('my window')\n",
    "window.geometry('300x300')\n",
    "\n",
    "l = tk.Label(window,text='',bg='yellow')\n",
    "l.pack()\n",
    "\n",
    "counter = 0\n",
    "def do_job():\n",
    "    global counter\n",
    "    l.config(text='do '+str(counter))\n",
    "    counter += 1\n",
    "\n",
    "#在窗口上定义一个Menu\n",
    "menubar = tk.Menu(window)\n",
    "\n",
    "#cascade级联\n",
    "filemenu = tk.Menu(menubar,tearoff=0)\n",
    "menubar.add_cascade(label='File',menu=filemenu)\n",
    "\n",
    "#在file选项中增加New，Open，Save，分割线，以及Exit\n",
    "filemenu.add_command(label='Open',command=do_job)\n",
    "filemenu.add_command(label='Save',command=do_job)\n",
    "filemenu.add_separator()#添加横线\n",
    "filemenu.add_command(label='Exit',command = window.quit)\n",
    "\n",
    "#增加Edit选项\n",
    "editmenu=tk.Menu(menubar,tearoff=0)\n",
    "menubar.add_cascade(label='Edit',menu=editmenu)\n",
    "editmenu.add_command(label='Cut',command=do_job)\n",
    "editmenu.add_command(label='Copy',command=do_job)\n",
    "editmenu.add_command(label='Paste',command=do_job)\n",
    "\n",
    "#传入参数filemenu\n",
    "submenu = tk.Menu(filemenu)\n",
    "filemenu.add_cascade(label='Import',menu=submenu,underline=0)\n",
    "submenu.add_command(label='Submenu1',command=do_job)\n",
    "\n",
    "window.config(menu=menubar)\n",
    "\n",
    "window.mainloop()"
   ]
  },
  {
   "cell_type": "markdown",
   "metadata": {},
   "source": [
    "![picture6](https://github.com/HenaChris/-/blob/master/basic_GUI_6.png?raw=true)"
   ]
  },
  {
   "cell_type": "code",
   "execution_count": 55,
   "metadata": {},
   "outputs": [],
   "source": [
    "#frame 框架\n",
    "import tkinter as tk\n",
    "\n",
    "window = tk.Tk()\n",
    "window.title('my window')\n",
    "window.geometry('300x300')\n",
    "\n",
    "tk.Label(window,text='on the window').pack()\n",
    "\n",
    "frm=tk.Frame(window)\n",
    "frm.pack()\n",
    "frm_1=tk.Frame(frm,)\n",
    "frm_r=tk.Frame(frm)\n",
    "frm_1.pack(side='left')\n",
    "frm_r.pack(side='right')\n",
    "\n",
    "tk.Label(frm_1,text='on the frm_11').pack()\n",
    "tk.Label(frm_1,text='on the frm_12').pack()\n",
    "tk.Label(frm_r,text='on the frm_r1').pack()\n",
    "\n",
    "window.mainloop()\n"
   ]
  },
  {
   "cell_type": "code",
   "execution_count": 56,
   "metadata": {},
   "outputs": [
    {
     "name": "stdout",
     "output_type": "stream",
     "text": [
      "False\n"
     ]
    }
   ],
   "source": [
    "from tkinter import messagebox\n",
    "import tkinter as tk\n",
    "\n",
    "window = tk.Tk()\n",
    "window.title('my window')\n",
    "window.geometry('200x200')\n",
    "\n",
    "def hit_me():\n",
    "    #tk.messagebox.showinfo(title='Hi', message='hahahaha')\n",
    "    #tk.messagebox.showwarning(title='Hi', message='nononono')\n",
    "    #tk.messagebox.showerror(title='Hi', message='No!! never')\n",
    "    #print(tk.messagebox.askquestion(title='Hi', message='hahahaha'))   # return 'yes' , 'no'\n",
    "    #print(tk.messagebox.askyesno(title='Hi', message='hahahaha'))   # return True, False\n",
    "    #print(tk.messagebox.asktrycancel(title='Hi', message='hahahaha'))   # return True, False\n",
    "    #print(tk.messagebox.askokcancel(title='Hi', message='hahahaha'))   # return True, False\n",
    "    print(tk.messagebox.askyesnocancel(title=\"Hi\", message=\"haha\"))     # return, True, False, None\n",
    "\n",
    "tk.Button(window, text='hit me', command=hit_me).pack()\n",
    "window.mainloop()"
   ]
  }
 ],
 "metadata": {
  "kernelspec": {
   "display_name": "Python 3",
   "language": "python",
   "name": "python3"
  },
  "language_info": {
   "codemirror_mode": {
    "name": "ipython",
    "version": 3
   },
   "file_extension": ".py",
   "mimetype": "text/x-python",
   "name": "python",
   "nbconvert_exporter": "python",
   "pygments_lexer": "ipython3",
   "version": "3.7.1"
  }
 },
 "nbformat": 4,
 "nbformat_minor": 2
}
